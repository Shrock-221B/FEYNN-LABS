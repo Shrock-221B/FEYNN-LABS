{
  "nbformat": 4,
  "nbformat_minor": 0,
  "metadata": {
    "colab": {
      "provenance": [],
      "gpuType": "T4"
    },
    "kernelspec": {
      "name": "python3",
      "display_name": "Python 3"
    },
    "language_info": {
      "name": "python"
    },
    "accelerator": "GPU"
  },
  "cells": [
    {
      "cell_type": "code",
      "source": [
        "import pandas as pd"
      ],
      "metadata": {
        "id": "aYpStE1Yq9DP"
      },
      "execution_count": null,
      "outputs": []
    },
    {
      "cell_type": "code",
      "source": [
        "from google.colab import drive\n",
        "drive.mount('/content/drive')"
      ],
      "metadata": {
        "colab": {
          "base_uri": "https://localhost:8080/"
        },
        "id": "wADwl5EQpqis",
        "outputId": "69c99afb-b0da-409b-df7d-88e2afad2bb3"
      },
      "execution_count": null,
      "outputs": [
        {
          "output_type": "stream",
          "name": "stdout",
          "text": [
            "Drive already mounted at /content/drive; to attempt to forcibly remount, call drive.mount(\"/content/drive\", force_remount=True).\n"
          ]
        }
      ]
    },
    {
      "cell_type": "code",
      "source": [
        "data=pd.read_csv(\"/content/drive/MyDrive/data.csv\")"
      ],
      "metadata": {
        "id": "DUBUri6L9Hk9"
      },
      "execution_count": null,
      "outputs": []
    },
    {
      "cell_type": "code",
      "source": [
        "\n",
        "data.head()"
      ],
      "metadata": {
        "id": "HvkFFQFR_HwD",
        "colab": {
          "base_uri": "https://localhost:8080/",
          "height": 206
        },
        "outputId": "49f4a886-ef49-4c43-810f-0af597254798"
      },
      "execution_count": null,
      "outputs": [
        {
          "output_type": "execute_result",
          "data": {
            "text/plain": [
              "                                        product_name product_price Rate  \\\n",
              "0  Candes 12 L Room/Personal Air Cooler??????(Whi...          3999    5   \n",
              "1  Candes 12 L Room/Personal Air Cooler??????(Whi...          3999    5   \n",
              "2  Candes 12 L Room/Personal Air Cooler??????(Whi...          3999    3   \n",
              "3  Candes 12 L Room/Personal Air Cooler??????(Whi...          3999    1   \n",
              "4  Candes 12 L Room/Personal Air Cooler??????(Whi...          3999    3   \n",
              "\n",
              "            Review                                            Summary  \\\n",
              "0           super!  great cooler excellent air flow and for this p...   \n",
              "1          awesome              best budget 2 fit cooler nice cooling   \n",
              "2             fair  the quality is good but the power of air is de...   \n",
              "3  useless product                  very bad product its a only a fan   \n",
              "4             fair                                      ok ok product   \n",
              "\n",
              "  Sentiment  \n",
              "0  positive  \n",
              "1  positive  \n",
              "2  positive  \n",
              "3  negative  \n",
              "4   neutral  "
            ],
            "text/html": [
              "\n",
              "  <div id=\"df-acd15d55-0c71-4f06-908d-741143872102\" class=\"colab-df-container\">\n",
              "    <div>\n",
              "<style scoped>\n",
              "    .dataframe tbody tr th:only-of-type {\n",
              "        vertical-align: middle;\n",
              "    }\n",
              "\n",
              "    .dataframe tbody tr th {\n",
              "        vertical-align: top;\n",
              "    }\n",
              "\n",
              "    .dataframe thead th {\n",
              "        text-align: right;\n",
              "    }\n",
              "</style>\n",
              "<table border=\"1\" class=\"dataframe\">\n",
              "  <thead>\n",
              "    <tr style=\"text-align: right;\">\n",
              "      <th></th>\n",
              "      <th>product_name</th>\n",
              "      <th>product_price</th>\n",
              "      <th>Rate</th>\n",
              "      <th>Review</th>\n",
              "      <th>Summary</th>\n",
              "      <th>Sentiment</th>\n",
              "    </tr>\n",
              "  </thead>\n",
              "  <tbody>\n",
              "    <tr>\n",
              "      <th>0</th>\n",
              "      <td>Candes 12 L Room/Personal Air Cooler??????(Whi...</td>\n",
              "      <td>3999</td>\n",
              "      <td>5</td>\n",
              "      <td>super!</td>\n",
              "      <td>great cooler excellent air flow and for this p...</td>\n",
              "      <td>positive</td>\n",
              "    </tr>\n",
              "    <tr>\n",
              "      <th>1</th>\n",
              "      <td>Candes 12 L Room/Personal Air Cooler??????(Whi...</td>\n",
              "      <td>3999</td>\n",
              "      <td>5</td>\n",
              "      <td>awesome</td>\n",
              "      <td>best budget 2 fit cooler nice cooling</td>\n",
              "      <td>positive</td>\n",
              "    </tr>\n",
              "    <tr>\n",
              "      <th>2</th>\n",
              "      <td>Candes 12 L Room/Personal Air Cooler??????(Whi...</td>\n",
              "      <td>3999</td>\n",
              "      <td>3</td>\n",
              "      <td>fair</td>\n",
              "      <td>the quality is good but the power of air is de...</td>\n",
              "      <td>positive</td>\n",
              "    </tr>\n",
              "    <tr>\n",
              "      <th>3</th>\n",
              "      <td>Candes 12 L Room/Personal Air Cooler??????(Whi...</td>\n",
              "      <td>3999</td>\n",
              "      <td>1</td>\n",
              "      <td>useless product</td>\n",
              "      <td>very bad product its a only a fan</td>\n",
              "      <td>negative</td>\n",
              "    </tr>\n",
              "    <tr>\n",
              "      <th>4</th>\n",
              "      <td>Candes 12 L Room/Personal Air Cooler??????(Whi...</td>\n",
              "      <td>3999</td>\n",
              "      <td>3</td>\n",
              "      <td>fair</td>\n",
              "      <td>ok ok product</td>\n",
              "      <td>neutral</td>\n",
              "    </tr>\n",
              "  </tbody>\n",
              "</table>\n",
              "</div>\n",
              "    <div class=\"colab-df-buttons\">\n",
              "\n",
              "  <div class=\"colab-df-container\">\n",
              "    <button class=\"colab-df-convert\" onclick=\"convertToInteractive('df-acd15d55-0c71-4f06-908d-741143872102')\"\n",
              "            title=\"Convert this dataframe to an interactive table.\"\n",
              "            style=\"display:none;\">\n",
              "\n",
              "  <svg xmlns=\"http://www.w3.org/2000/svg\" height=\"24px\" viewBox=\"0 -960 960 960\">\n",
              "    <path d=\"M120-120v-720h720v720H120Zm60-500h600v-160H180v160Zm220 220h160v-160H400v160Zm0 220h160v-160H400v160ZM180-400h160v-160H180v160Zm440 0h160v-160H620v160ZM180-180h160v-160H180v160Zm440 0h160v-160H620v160Z\"/>\n",
              "  </svg>\n",
              "    </button>\n",
              "\n",
              "  <style>\n",
              "    .colab-df-container {\n",
              "      display:flex;\n",
              "      gap: 12px;\n",
              "    }\n",
              "\n",
              "    .colab-df-convert {\n",
              "      background-color: #E8F0FE;\n",
              "      border: none;\n",
              "      border-radius: 50%;\n",
              "      cursor: pointer;\n",
              "      display: none;\n",
              "      fill: #1967D2;\n",
              "      height: 32px;\n",
              "      padding: 0 0 0 0;\n",
              "      width: 32px;\n",
              "    }\n",
              "\n",
              "    .colab-df-convert:hover {\n",
              "      background-color: #E2EBFA;\n",
              "      box-shadow: 0px 1px 2px rgba(60, 64, 67, 0.3), 0px 1px 3px 1px rgba(60, 64, 67, 0.15);\n",
              "      fill: #174EA6;\n",
              "    }\n",
              "\n",
              "    .colab-df-buttons div {\n",
              "      margin-bottom: 4px;\n",
              "    }\n",
              "\n",
              "    [theme=dark] .colab-df-convert {\n",
              "      background-color: #3B4455;\n",
              "      fill: #D2E3FC;\n",
              "    }\n",
              "\n",
              "    [theme=dark] .colab-df-convert:hover {\n",
              "      background-color: #434B5C;\n",
              "      box-shadow: 0px 1px 3px 1px rgba(0, 0, 0, 0.15);\n",
              "      filter: drop-shadow(0px 1px 2px rgba(0, 0, 0, 0.3));\n",
              "      fill: #FFFFFF;\n",
              "    }\n",
              "  </style>\n",
              "\n",
              "    <script>\n",
              "      const buttonEl =\n",
              "        document.querySelector('#df-acd15d55-0c71-4f06-908d-741143872102 button.colab-df-convert');\n",
              "      buttonEl.style.display =\n",
              "        google.colab.kernel.accessAllowed ? 'block' : 'none';\n",
              "\n",
              "      async function convertToInteractive(key) {\n",
              "        const element = document.querySelector('#df-acd15d55-0c71-4f06-908d-741143872102');\n",
              "        const dataTable =\n",
              "          await google.colab.kernel.invokeFunction('convertToInteractive',\n",
              "                                                    [key], {});\n",
              "        if (!dataTable) return;\n",
              "\n",
              "        const docLinkHtml = 'Like what you see? Visit the ' +\n",
              "          '<a target=\"_blank\" href=https://colab.research.google.com/notebooks/data_table.ipynb>data table notebook</a>'\n",
              "          + ' to learn more about interactive tables.';\n",
              "        element.innerHTML = '';\n",
              "        dataTable['output_type'] = 'display_data';\n",
              "        await google.colab.output.renderOutput(dataTable, element);\n",
              "        const docLink = document.createElement('div');\n",
              "        docLink.innerHTML = docLinkHtml;\n",
              "        element.appendChild(docLink);\n",
              "      }\n",
              "    </script>\n",
              "  </div>\n",
              "\n",
              "\n",
              "<div id=\"df-af677a30-d643-4646-90f1-cf5ffc984b42\">\n",
              "  <button class=\"colab-df-quickchart\" onclick=\"quickchart('df-af677a30-d643-4646-90f1-cf5ffc984b42')\"\n",
              "            title=\"Suggest charts.\"\n",
              "            style=\"display:none;\">\n",
              "\n",
              "<svg xmlns=\"http://www.w3.org/2000/svg\" height=\"24px\"viewBox=\"0 0 24 24\"\n",
              "     width=\"24px\">\n",
              "    <g>\n",
              "        <path d=\"M19 3H5c-1.1 0-2 .9-2 2v14c0 1.1.9 2 2 2h14c1.1 0 2-.9 2-2V5c0-1.1-.9-2-2-2zM9 17H7v-7h2v7zm4 0h-2V7h2v10zm4 0h-2v-4h2v4z\"/>\n",
              "    </g>\n",
              "</svg>\n",
              "  </button>\n",
              "\n",
              "<style>\n",
              "  .colab-df-quickchart {\n",
              "      --bg-color: #E8F0FE;\n",
              "      --fill-color: #1967D2;\n",
              "      --hover-bg-color: #E2EBFA;\n",
              "      --hover-fill-color: #174EA6;\n",
              "      --disabled-fill-color: #AAA;\n",
              "      --disabled-bg-color: #DDD;\n",
              "  }\n",
              "\n",
              "  [theme=dark] .colab-df-quickchart {\n",
              "      --bg-color: #3B4455;\n",
              "      --fill-color: #D2E3FC;\n",
              "      --hover-bg-color: #434B5C;\n",
              "      --hover-fill-color: #FFFFFF;\n",
              "      --disabled-bg-color: #3B4455;\n",
              "      --disabled-fill-color: #666;\n",
              "  }\n",
              "\n",
              "  .colab-df-quickchart {\n",
              "    background-color: var(--bg-color);\n",
              "    border: none;\n",
              "    border-radius: 50%;\n",
              "    cursor: pointer;\n",
              "    display: none;\n",
              "    fill: var(--fill-color);\n",
              "    height: 32px;\n",
              "    padding: 0;\n",
              "    width: 32px;\n",
              "  }\n",
              "\n",
              "  .colab-df-quickchart:hover {\n",
              "    background-color: var(--hover-bg-color);\n",
              "    box-shadow: 0 1px 2px rgba(60, 64, 67, 0.3), 0 1px 3px 1px rgba(60, 64, 67, 0.15);\n",
              "    fill: var(--button-hover-fill-color);\n",
              "  }\n",
              "\n",
              "  .colab-df-quickchart-complete:disabled,\n",
              "  .colab-df-quickchart-complete:disabled:hover {\n",
              "    background-color: var(--disabled-bg-color);\n",
              "    fill: var(--disabled-fill-color);\n",
              "    box-shadow: none;\n",
              "  }\n",
              "\n",
              "  .colab-df-spinner {\n",
              "    border: 2px solid var(--fill-color);\n",
              "    border-color: transparent;\n",
              "    border-bottom-color: var(--fill-color);\n",
              "    animation:\n",
              "      spin 1s steps(1) infinite;\n",
              "  }\n",
              "\n",
              "  @keyframes spin {\n",
              "    0% {\n",
              "      border-color: transparent;\n",
              "      border-bottom-color: var(--fill-color);\n",
              "      border-left-color: var(--fill-color);\n",
              "    }\n",
              "    20% {\n",
              "      border-color: transparent;\n",
              "      border-left-color: var(--fill-color);\n",
              "      border-top-color: var(--fill-color);\n",
              "    }\n",
              "    30% {\n",
              "      border-color: transparent;\n",
              "      border-left-color: var(--fill-color);\n",
              "      border-top-color: var(--fill-color);\n",
              "      border-right-color: var(--fill-color);\n",
              "    }\n",
              "    40% {\n",
              "      border-color: transparent;\n",
              "      border-right-color: var(--fill-color);\n",
              "      border-top-color: var(--fill-color);\n",
              "    }\n",
              "    60% {\n",
              "      border-color: transparent;\n",
              "      border-right-color: var(--fill-color);\n",
              "    }\n",
              "    80% {\n",
              "      border-color: transparent;\n",
              "      border-right-color: var(--fill-color);\n",
              "      border-bottom-color: var(--fill-color);\n",
              "    }\n",
              "    90% {\n",
              "      border-color: transparent;\n",
              "      border-bottom-color: var(--fill-color);\n",
              "    }\n",
              "  }\n",
              "</style>\n",
              "\n",
              "  <script>\n",
              "    async function quickchart(key) {\n",
              "      const quickchartButtonEl =\n",
              "        document.querySelector('#' + key + ' button');\n",
              "      quickchartButtonEl.disabled = true;  // To prevent multiple clicks.\n",
              "      quickchartButtonEl.classList.add('colab-df-spinner');\n",
              "      try {\n",
              "        const charts = await google.colab.kernel.invokeFunction(\n",
              "            'suggestCharts', [key], {});\n",
              "      } catch (error) {\n",
              "        console.error('Error during call to suggestCharts:', error);\n",
              "      }\n",
              "      quickchartButtonEl.classList.remove('colab-df-spinner');\n",
              "      quickchartButtonEl.classList.add('colab-df-quickchart-complete');\n",
              "    }\n",
              "    (() => {\n",
              "      let quickchartButtonEl =\n",
              "        document.querySelector('#df-af677a30-d643-4646-90f1-cf5ffc984b42 button');\n",
              "      quickchartButtonEl.style.display =\n",
              "        google.colab.kernel.accessAllowed ? 'block' : 'none';\n",
              "    })();\n",
              "  </script>\n",
              "</div>\n",
              "    </div>\n",
              "  </div>\n"
            ]
          },
          "metadata": {},
          "execution_count": 4
        }
      ]
    },
    {
      "cell_type": "code",
      "source": [
        "data.shape"
      ],
      "metadata": {
        "id": "UCBvj_PHzyVf",
        "outputId": "f18f25fb-6b67-4c3f-f07b-16d6ebe61b0d",
        "colab": {
          "base_uri": "https://localhost:8080/"
        }
      },
      "execution_count": null,
      "outputs": [
        {
          "output_type": "execute_result",
          "data": {
            "text/plain": [
              "(205052, 6)"
            ]
          },
          "metadata": {},
          "execution_count": 5
        }
      ]
    },
    {
      "cell_type": "code",
      "source": [
        "import nltk\n",
        "nltk.download('wordnet')\n",
        "from nltk.stem import WordNetLemmatizer, SnowballStemmer, PorterStemmer\n",
        "import gensim\n",
        "from gensim.utils import simple_preprocess\n",
        "from gensim.parsing.preprocessing import STOPWORDS"
      ],
      "metadata": {
        "id": "RYSv5ptQ9M_h",
        "colab": {
          "base_uri": "https://localhost:8080/"
        },
        "outputId": "8ba32278-67f1-4207-c32c-8f0dd415d037"
      },
      "execution_count": null,
      "outputs": [
        {
          "output_type": "stream",
          "name": "stderr",
          "text": [
            "[nltk_data] Downloading package wordnet to /root/nltk_data...\n"
          ]
        }
      ]
    },
    {
      "cell_type": "code",
      "source": [
        "data['text']=data['Review']+' '+data['Summary']"
      ],
      "metadata": {
        "id": "NsKIrb7S_NSK"
      },
      "execution_count": null,
      "outputs": []
    },
    {
      "cell_type": "code",
      "source": [
        "def lemmatize_stemming(text):\n",
        "    stemmer = PorterStemmer()\n",
        "    return stemmer.stem(WordNetLemmatizer().lemmatize(text, pos='v'))\n",
        "def preprocess(text):\n",
        "    result = []\n",
        "    for token in gensim.utils.simple_preprocess(text):\n",
        "        if token not in gensim.parsing.preprocessing.STOPWORDS and len(token) > 3:\n",
        "            result.append(lemmatize_stemming(token))\n",
        "    return result\n",
        "data['text'] = data['text'].astype(str)\n",
        "data['preprocessed_text'] = data['text'].apply(preprocess)"
      ],
      "metadata": {
        "id": "YU9v13UQ9Q-t"
      },
      "execution_count": null,
      "outputs": []
    },
    {
      "cell_type": "markdown",
      "source": [],
      "metadata": {
        "id": "bLpXeRmIw7tX"
      }
    },
    {
      "cell_type": "code",
      "source": [
        "def lemmatize(text):\n",
        "    lemmatizer = WordNetLemmatizer()\n",
        "    result = []\n",
        "    for token in gensim.utils.simple_preprocess(text):\n",
        "        if token not in gensim.parsing.preprocessing.STOPWORDS and len(token) > 3:\n",
        "            result.append(lemmatizer.lemmatize(token, pos='v'))  # Use lemmatization here\n",
        "    return result\n",
        "\n",
        "data['text'] = data['text'].astype(str)\n",
        "data['preprocessed_text'] = data['text'].apply(lemmatize)"
      ],
      "metadata": {
        "id": "ZHmstTmdw0-o"
      },
      "execution_count": null,
      "outputs": []
    },
    {
      "cell_type": "code",
      "source": [
        "data.dtypes"
      ],
      "metadata": {
        "colab": {
          "base_uri": "https://localhost:8080/"
        },
        "id": "_lkHTK8g_kHc",
        "outputId": "db8f9894-214d-4311-c58f-887b089f8fe4"
      },
      "execution_count": null,
      "outputs": [
        {
          "output_type": "execute_result",
          "data": {
            "text/plain": [
              "product_name         object\n",
              "product_price        object\n",
              "Rate                 object\n",
              "Review               object\n",
              "Summary              object\n",
              "Sentiment            object\n",
              "text                 object\n",
              "preprocessed_text    object\n",
              "dtype: object"
            ]
          },
          "metadata": {},
          "execution_count": 7
        }
      ]
    },
    {
      "cell_type": "code",
      "source": [
        "from sklearn.preprocessing import LabelEncoder\n",
        "\n",
        "# Encode target labels\n",
        "le = LabelEncoder()\n",
        "Y = le.fit_transform(data['Sentiment'])"
      ],
      "metadata": {
        "id": "cLz6Ux8ZLayN"
      },
      "execution_count": null,
      "outputs": []
    },
    {
      "cell_type": "code",
      "source": [
        "data"
      ],
      "metadata": {
        "colab": {
          "base_uri": "https://localhost:8080/",
          "height": 597
        },
        "id": "x4S5P502LyrQ",
        "outputId": "1365a8ed-4810-4416-ac99-d2b245d4eeda"
      },
      "execution_count": null,
      "outputs": [
        {
          "output_type": "execute_result",
          "data": {
            "text/plain": [
              "                                             product_name product_price Rate  \\\n",
              "0       Candes 12 L Room/Personal Air Cooler??????(Whi...          3999    5   \n",
              "1       Candes 12 L Room/Personal Air Cooler??????(Whi...          3999    5   \n",
              "2       Candes 12 L Room/Personal Air Cooler??????(Whi...          3999    3   \n",
              "3       Candes 12 L Room/Personal Air Cooler??????(Whi...          3999    1   \n",
              "4       Candes 12 L Room/Personal Air Cooler??????(Whi...          3999    3   \n",
              "...                                                   ...           ...  ...   \n",
              "205047  cello Pack of 18 Opalware Cello Dazzle Lush Fi...          1299    5   \n",
              "205048  cello Pack of 18 Opalware Cello Dazzle Lush Fi...          1299    5   \n",
              "205049  cello Pack of 18 Opalware Cello Dazzle Lush Fi...          1299    3   \n",
              "205050  cello Pack of 18 Opalware Cello Dazzle Lush Fi...          1299    5   \n",
              "205051  cello Pack of 18 Opalware Cello Dazzle Lush Fi...          1299    4   \n",
              "\n",
              "                 Review                                            Summary  \\\n",
              "0                super!  great cooler excellent air flow and for this p...   \n",
              "1               awesome              best budget 2 fit cooler nice cooling   \n",
              "2                  fair  the quality is good but the power of air is de...   \n",
              "3       useless product                  very bad product its a only a fan   \n",
              "4                  fair                                      ok ok product   \n",
              "...                 ...                                                ...   \n",
              "205047        must buy!                                       good product   \n",
              "205048           super!                                               nice   \n",
              "205049             nice                        very nice and fast delivery   \n",
              "205050        just wow!                                    awesome product   \n",
              "205051  value-for-money  very good but mixing bowl not included is one ...   \n",
              "\n",
              "       Sentiment                                               text  \\\n",
              "0       positive  super! great cooler excellent air flow and for...   \n",
              "1       positive      awesome best budget 2 fit cooler nice cooling   \n",
              "2       positive  fair the quality is good but the power of air ...   \n",
              "3       negative  useless product very bad product its a only a fan   \n",
              "4        neutral                                 fair ok ok product   \n",
              "...          ...                                                ...   \n",
              "205047  positive                             must buy! good product   \n",
              "205048  positive                                        super! nice   \n",
              "205049  positive                   nice very nice and fast delivery   \n",
              "205050  positive                          just wow! awesome product   \n",
              "205051   neutral  value-for-money very good but mixing bowl not ...   \n",
              "\n",
              "                                        preprocessed_text  \n",
              "0       [super, great, cooler, excellent, flow, price,...  \n",
              "1             [awesome, best, budget, cooler, nice, cool]  \n",
              "2                    [fair, quality, good, power, decent]  \n",
              "3                             [useless, product, product]  \n",
              "4                                         [fair, product]  \n",
              "...                                                   ...  \n",
              "205047                                    [good, product]  \n",
              "205048                                      [super, nice]  \n",
              "205049                       [nice, nice, fast, delivery]  \n",
              "205050                                 [awesome, product]  \n",
              "205051  [value, money, good, mix, bowl, include, soup,...  \n",
              "\n",
              "[205052 rows x 8 columns]"
            ],
            "text/html": [
              "\n",
              "  <div id=\"df-fdcfbbd1-b918-4e72-a508-0943c4b35858\" class=\"colab-df-container\">\n",
              "    <div>\n",
              "<style scoped>\n",
              "    .dataframe tbody tr th:only-of-type {\n",
              "        vertical-align: middle;\n",
              "    }\n",
              "\n",
              "    .dataframe tbody tr th {\n",
              "        vertical-align: top;\n",
              "    }\n",
              "\n",
              "    .dataframe thead th {\n",
              "        text-align: right;\n",
              "    }\n",
              "</style>\n",
              "<table border=\"1\" class=\"dataframe\">\n",
              "  <thead>\n",
              "    <tr style=\"text-align: right;\">\n",
              "      <th></th>\n",
              "      <th>product_name</th>\n",
              "      <th>product_price</th>\n",
              "      <th>Rate</th>\n",
              "      <th>Review</th>\n",
              "      <th>Summary</th>\n",
              "      <th>Sentiment</th>\n",
              "      <th>text</th>\n",
              "      <th>preprocessed_text</th>\n",
              "    </tr>\n",
              "  </thead>\n",
              "  <tbody>\n",
              "    <tr>\n",
              "      <th>0</th>\n",
              "      <td>Candes 12 L Room/Personal Air Cooler??????(Whi...</td>\n",
              "      <td>3999</td>\n",
              "      <td>5</td>\n",
              "      <td>super!</td>\n",
              "      <td>great cooler excellent air flow and for this p...</td>\n",
              "      <td>positive</td>\n",
              "      <td>super! great cooler excellent air flow and for...</td>\n",
              "      <td>[super, great, cooler, excellent, flow, price,...</td>\n",
              "    </tr>\n",
              "    <tr>\n",
              "      <th>1</th>\n",
              "      <td>Candes 12 L Room/Personal Air Cooler??????(Whi...</td>\n",
              "      <td>3999</td>\n",
              "      <td>5</td>\n",
              "      <td>awesome</td>\n",
              "      <td>best budget 2 fit cooler nice cooling</td>\n",
              "      <td>positive</td>\n",
              "      <td>awesome best budget 2 fit cooler nice cooling</td>\n",
              "      <td>[awesome, best, budget, cooler, nice, cool]</td>\n",
              "    </tr>\n",
              "    <tr>\n",
              "      <th>2</th>\n",
              "      <td>Candes 12 L Room/Personal Air Cooler??????(Whi...</td>\n",
              "      <td>3999</td>\n",
              "      <td>3</td>\n",
              "      <td>fair</td>\n",
              "      <td>the quality is good but the power of air is de...</td>\n",
              "      <td>positive</td>\n",
              "      <td>fair the quality is good but the power of air ...</td>\n",
              "      <td>[fair, quality, good, power, decent]</td>\n",
              "    </tr>\n",
              "    <tr>\n",
              "      <th>3</th>\n",
              "      <td>Candes 12 L Room/Personal Air Cooler??????(Whi...</td>\n",
              "      <td>3999</td>\n",
              "      <td>1</td>\n",
              "      <td>useless product</td>\n",
              "      <td>very bad product its a only a fan</td>\n",
              "      <td>negative</td>\n",
              "      <td>useless product very bad product its a only a fan</td>\n",
              "      <td>[useless, product, product]</td>\n",
              "    </tr>\n",
              "    <tr>\n",
              "      <th>4</th>\n",
              "      <td>Candes 12 L Room/Personal Air Cooler??????(Whi...</td>\n",
              "      <td>3999</td>\n",
              "      <td>3</td>\n",
              "      <td>fair</td>\n",
              "      <td>ok ok product</td>\n",
              "      <td>neutral</td>\n",
              "      <td>fair ok ok product</td>\n",
              "      <td>[fair, product]</td>\n",
              "    </tr>\n",
              "    <tr>\n",
              "      <th>...</th>\n",
              "      <td>...</td>\n",
              "      <td>...</td>\n",
              "      <td>...</td>\n",
              "      <td>...</td>\n",
              "      <td>...</td>\n",
              "      <td>...</td>\n",
              "      <td>...</td>\n",
              "      <td>...</td>\n",
              "    </tr>\n",
              "    <tr>\n",
              "      <th>205047</th>\n",
              "      <td>cello Pack of 18 Opalware Cello Dazzle Lush Fi...</td>\n",
              "      <td>1299</td>\n",
              "      <td>5</td>\n",
              "      <td>must buy!</td>\n",
              "      <td>good product</td>\n",
              "      <td>positive</td>\n",
              "      <td>must buy! good product</td>\n",
              "      <td>[good, product]</td>\n",
              "    </tr>\n",
              "    <tr>\n",
              "      <th>205048</th>\n",
              "      <td>cello Pack of 18 Opalware Cello Dazzle Lush Fi...</td>\n",
              "      <td>1299</td>\n",
              "      <td>5</td>\n",
              "      <td>super!</td>\n",
              "      <td>nice</td>\n",
              "      <td>positive</td>\n",
              "      <td>super! nice</td>\n",
              "      <td>[super, nice]</td>\n",
              "    </tr>\n",
              "    <tr>\n",
              "      <th>205049</th>\n",
              "      <td>cello Pack of 18 Opalware Cello Dazzle Lush Fi...</td>\n",
              "      <td>1299</td>\n",
              "      <td>3</td>\n",
              "      <td>nice</td>\n",
              "      <td>very nice and fast delivery</td>\n",
              "      <td>positive</td>\n",
              "      <td>nice very nice and fast delivery</td>\n",
              "      <td>[nice, nice, fast, delivery]</td>\n",
              "    </tr>\n",
              "    <tr>\n",
              "      <th>205050</th>\n",
              "      <td>cello Pack of 18 Opalware Cello Dazzle Lush Fi...</td>\n",
              "      <td>1299</td>\n",
              "      <td>5</td>\n",
              "      <td>just wow!</td>\n",
              "      <td>awesome product</td>\n",
              "      <td>positive</td>\n",
              "      <td>just wow! awesome product</td>\n",
              "      <td>[awesome, product]</td>\n",
              "    </tr>\n",
              "    <tr>\n",
              "      <th>205051</th>\n",
              "      <td>cello Pack of 18 Opalware Cello Dazzle Lush Fi...</td>\n",
              "      <td>1299</td>\n",
              "      <td>4</td>\n",
              "      <td>value-for-money</td>\n",
              "      <td>very good but mixing bowl not included is one ...</td>\n",
              "      <td>neutral</td>\n",
              "      <td>value-for-money very good but mixing bowl not ...</td>\n",
              "      <td>[value, money, good, mix, bowl, include, soup,...</td>\n",
              "    </tr>\n",
              "  </tbody>\n",
              "</table>\n",
              "<p>205052 rows × 8 columns</p>\n",
              "</div>\n",
              "    <div class=\"colab-df-buttons\">\n",
              "\n",
              "  <div class=\"colab-df-container\">\n",
              "    <button class=\"colab-df-convert\" onclick=\"convertToInteractive('df-fdcfbbd1-b918-4e72-a508-0943c4b35858')\"\n",
              "            title=\"Convert this dataframe to an interactive table.\"\n",
              "            style=\"display:none;\">\n",
              "\n",
              "  <svg xmlns=\"http://www.w3.org/2000/svg\" height=\"24px\" viewBox=\"0 -960 960 960\">\n",
              "    <path d=\"M120-120v-720h720v720H120Zm60-500h600v-160H180v160Zm220 220h160v-160H400v160Zm0 220h160v-160H400v160ZM180-400h160v-160H180v160Zm440 0h160v-160H620v160ZM180-180h160v-160H180v160Zm440 0h160v-160H620v160Z\"/>\n",
              "  </svg>\n",
              "    </button>\n",
              "\n",
              "  <style>\n",
              "    .colab-df-container {\n",
              "      display:flex;\n",
              "      gap: 12px;\n",
              "    }\n",
              "\n",
              "    .colab-df-convert {\n",
              "      background-color: #E8F0FE;\n",
              "      border: none;\n",
              "      border-radius: 50%;\n",
              "      cursor: pointer;\n",
              "      display: none;\n",
              "      fill: #1967D2;\n",
              "      height: 32px;\n",
              "      padding: 0 0 0 0;\n",
              "      width: 32px;\n",
              "    }\n",
              "\n",
              "    .colab-df-convert:hover {\n",
              "      background-color: #E2EBFA;\n",
              "      box-shadow: 0px 1px 2px rgba(60, 64, 67, 0.3), 0px 1px 3px 1px rgba(60, 64, 67, 0.15);\n",
              "      fill: #174EA6;\n",
              "    }\n",
              "\n",
              "    .colab-df-buttons div {\n",
              "      margin-bottom: 4px;\n",
              "    }\n",
              "\n",
              "    [theme=dark] .colab-df-convert {\n",
              "      background-color: #3B4455;\n",
              "      fill: #D2E3FC;\n",
              "    }\n",
              "\n",
              "    [theme=dark] .colab-df-convert:hover {\n",
              "      background-color: #434B5C;\n",
              "      box-shadow: 0px 1px 3px 1px rgba(0, 0, 0, 0.15);\n",
              "      filter: drop-shadow(0px 1px 2px rgba(0, 0, 0, 0.3));\n",
              "      fill: #FFFFFF;\n",
              "    }\n",
              "  </style>\n",
              "\n",
              "    <script>\n",
              "      const buttonEl =\n",
              "        document.querySelector('#df-fdcfbbd1-b918-4e72-a508-0943c4b35858 button.colab-df-convert');\n",
              "      buttonEl.style.display =\n",
              "        google.colab.kernel.accessAllowed ? 'block' : 'none';\n",
              "\n",
              "      async function convertToInteractive(key) {\n",
              "        const element = document.querySelector('#df-fdcfbbd1-b918-4e72-a508-0943c4b35858');\n",
              "        const dataTable =\n",
              "          await google.colab.kernel.invokeFunction('convertToInteractive',\n",
              "                                                    [key], {});\n",
              "        if (!dataTable) return;\n",
              "\n",
              "        const docLinkHtml = 'Like what you see? Visit the ' +\n",
              "          '<a target=\"_blank\" href=https://colab.research.google.com/notebooks/data_table.ipynb>data table notebook</a>'\n",
              "          + ' to learn more about interactive tables.';\n",
              "        element.innerHTML = '';\n",
              "        dataTable['output_type'] = 'display_data';\n",
              "        await google.colab.output.renderOutput(dataTable, element);\n",
              "        const docLink = document.createElement('div');\n",
              "        docLink.innerHTML = docLinkHtml;\n",
              "        element.appendChild(docLink);\n",
              "      }\n",
              "    </script>\n",
              "  </div>\n",
              "\n",
              "\n",
              "<div id=\"df-77cd6796-caa9-42d9-ada4-a5674a3a8a0b\">\n",
              "  <button class=\"colab-df-quickchart\" onclick=\"quickchart('df-77cd6796-caa9-42d9-ada4-a5674a3a8a0b')\"\n",
              "            title=\"Suggest charts.\"\n",
              "            style=\"display:none;\">\n",
              "\n",
              "<svg xmlns=\"http://www.w3.org/2000/svg\" height=\"24px\"viewBox=\"0 0 24 24\"\n",
              "     width=\"24px\">\n",
              "    <g>\n",
              "        <path d=\"M19 3H5c-1.1 0-2 .9-2 2v14c0 1.1.9 2 2 2h14c1.1 0 2-.9 2-2V5c0-1.1-.9-2-2-2zM9 17H7v-7h2v7zm4 0h-2V7h2v10zm4 0h-2v-4h2v4z\"/>\n",
              "    </g>\n",
              "</svg>\n",
              "  </button>\n",
              "\n",
              "<style>\n",
              "  .colab-df-quickchart {\n",
              "    background-color: #E8F0FE;\n",
              "    border: none;\n",
              "    border-radius: 50%;\n",
              "    cursor: pointer;\n",
              "    display: none;\n",
              "    fill: #1967D2;\n",
              "    height: 32px;\n",
              "    padding: 0 0 0 0;\n",
              "    width: 32px;\n",
              "  }\n",
              "\n",
              "  .colab-df-quickchart:hover {\n",
              "    background-color: #E2EBFA;\n",
              "    box-shadow: 0px 1px 2px rgba(60, 64, 67, 0.3), 0px 1px 3px 1px rgba(60, 64, 67, 0.15);\n",
              "    fill: #174EA6;\n",
              "  }\n",
              "\n",
              "  [theme=dark] .colab-df-quickchart {\n",
              "    background-color: #3B4455;\n",
              "    fill: #D2E3FC;\n",
              "  }\n",
              "\n",
              "  [theme=dark] .colab-df-quickchart:hover {\n",
              "    background-color: #434B5C;\n",
              "    box-shadow: 0px 1px 3px 1px rgba(0, 0, 0, 0.15);\n",
              "    filter: drop-shadow(0px 1px 2px rgba(0, 0, 0, 0.3));\n",
              "    fill: #FFFFFF;\n",
              "  }\n",
              "</style>\n",
              "\n",
              "  <script>\n",
              "    async function quickchart(key) {\n",
              "      const charts = await google.colab.kernel.invokeFunction(\n",
              "          'suggestCharts', [key], {});\n",
              "    }\n",
              "    (() => {\n",
              "      let quickchartButtonEl =\n",
              "        document.querySelector('#df-77cd6796-caa9-42d9-ada4-a5674a3a8a0b button');\n",
              "      quickchartButtonEl.style.display =\n",
              "        google.colab.kernel.accessAllowed ? 'block' : 'none';\n",
              "    })();\n",
              "  </script>\n",
              "</div>\n",
              "    </div>\n",
              "  </div>\n"
            ]
          },
          "metadata": {},
          "execution_count": 9
        }
      ]
    },
    {
      "cell_type": "code",
      "source": [
        "unique_ratings = data['Rate'].unique()\n",
        "print(unique_ratings)\n",
        "valid_ratings = ['1', '2', '3', '4', '5']  # List of valid rating values\n",
        "data = data[data['Rate'].isin(valid_ratings)]\n",
        "unique_ratings = data['Rate'].unique()\n",
        "print(unique_ratings)"
      ],
      "metadata": {
        "colab": {
          "base_uri": "https://localhost:8080/"
        },
        "id": "qIJHrFZvtipq",
        "outputId": "9b11845f-15fd-4311-aedb-b46d638fb737"
      },
      "execution_count": null,
      "outputs": [
        {
          "output_type": "stream",
          "name": "stdout",
          "text": [
            "['5' '3' '1' '4' '2'\n",
            " 'Pigeon Favourite Electric Kettle??????(1.5 L, Silver, Black)'\n",
            " 'Bajaj DX 2 L/W Dry Iron'\n",
            " 'Nova Plus Amaze NI 10 1100 W Dry Iron?Ã\\x83Â¿?Ã\\x83Â¿(Grey & Turquoise)']\n",
            "['5' '3' '1' '4' '2']\n"
          ]
        }
      ]
    },
    {
      "cell_type": "code",
      "source": [
        "from tensorflow.keras.preprocessing.text import Tokenizer\n",
        "from tensorflow.keras.preprocessing.sequence import pad_sequences\n",
        "\n",
        "max_words = 10000\n",
        "max_len=50\n",
        "\n",
        "def tokenize_pad_sequences(text):\n",
        "    '''\n",
        "    This function tokenize the input text into sequnences of intergers and then\n",
        "    pad each sequence to the same length\n",
        "    '''\n",
        "    # Text tokenization\n",
        "    tokenizer = Tokenizer(num_words=max_words, lower=True, split=' ')\n",
        "    tokenizer.fit_on_texts(text)\n",
        "    # Transforms text to a sequence of integers\n",
        "    X = tokenizer.texts_to_sequences(text)\n",
        "    # Pad sequences to the same length\n",
        "    X = pad_sequences(X, padding='post', maxlen=max_len)\n",
        "    return X,tokenizer"
      ],
      "metadata": {
        "id": "jzv5POTFCCiq"
      },
      "execution_count": null,
      "outputs": []
    },
    {
      "cell_type": "code",
      "source": [
        "X,tokenizer=tokenize_pad_sequences(data['preprocessed_text'])\n",
        "Y = pd.get_dummies(data['Sentiment'])\n",
        "from sklearn.model_selection import train_test_split\n",
        "X_train,X_test,Y_train,Y_test=train_test_split(X,Y,test_size=0.25,random_state=33)"
      ],
      "metadata": {
        "id": "SAaw-DjeAH7e"
      },
      "execution_count": null,
      "outputs": []
    },
    {
      "cell_type": "code",
      "source": [
        "Y"
      ],
      "metadata": {
        "colab": {
          "base_uri": "https://localhost:8080/",
          "height": 424
        },
        "id": "NiwsoHAJviRC",
        "outputId": "f0c48ee0-c21d-4bd3-957d-194643294d45"
      },
      "execution_count": null,
      "outputs": [
        {
          "output_type": "execute_result",
          "data": {
            "text/plain": [
              "        negative  neutral  positive\n",
              "0              0        0         1\n",
              "1              0        0         1\n",
              "2              0        0         1\n",
              "3              1        0         0\n",
              "4              0        1         0\n",
              "...          ...      ...       ...\n",
              "205047         0        0         1\n",
              "205048         0        0         1\n",
              "205049         0        0         1\n",
              "205050         0        0         1\n",
              "205051         0        1         0\n",
              "\n",
              "[205049 rows x 3 columns]"
            ],
            "text/html": [
              "\n",
              "  <div id=\"df-0d50783f-d5f9-4ac0-a510-9bf48f6f7f90\" class=\"colab-df-container\">\n",
              "    <div>\n",
              "<style scoped>\n",
              "    .dataframe tbody tr th:only-of-type {\n",
              "        vertical-align: middle;\n",
              "    }\n",
              "\n",
              "    .dataframe tbody tr th {\n",
              "        vertical-align: top;\n",
              "    }\n",
              "\n",
              "    .dataframe thead th {\n",
              "        text-align: right;\n",
              "    }\n",
              "</style>\n",
              "<table border=\"1\" class=\"dataframe\">\n",
              "  <thead>\n",
              "    <tr style=\"text-align: right;\">\n",
              "      <th></th>\n",
              "      <th>negative</th>\n",
              "      <th>neutral</th>\n",
              "      <th>positive</th>\n",
              "    </tr>\n",
              "  </thead>\n",
              "  <tbody>\n",
              "    <tr>\n",
              "      <th>0</th>\n",
              "      <td>0</td>\n",
              "      <td>0</td>\n",
              "      <td>1</td>\n",
              "    </tr>\n",
              "    <tr>\n",
              "      <th>1</th>\n",
              "      <td>0</td>\n",
              "      <td>0</td>\n",
              "      <td>1</td>\n",
              "    </tr>\n",
              "    <tr>\n",
              "      <th>2</th>\n",
              "      <td>0</td>\n",
              "      <td>0</td>\n",
              "      <td>1</td>\n",
              "    </tr>\n",
              "    <tr>\n",
              "      <th>3</th>\n",
              "      <td>1</td>\n",
              "      <td>0</td>\n",
              "      <td>0</td>\n",
              "    </tr>\n",
              "    <tr>\n",
              "      <th>4</th>\n",
              "      <td>0</td>\n",
              "      <td>1</td>\n",
              "      <td>0</td>\n",
              "    </tr>\n",
              "    <tr>\n",
              "      <th>...</th>\n",
              "      <td>...</td>\n",
              "      <td>...</td>\n",
              "      <td>...</td>\n",
              "    </tr>\n",
              "    <tr>\n",
              "      <th>205047</th>\n",
              "      <td>0</td>\n",
              "      <td>0</td>\n",
              "      <td>1</td>\n",
              "    </tr>\n",
              "    <tr>\n",
              "      <th>205048</th>\n",
              "      <td>0</td>\n",
              "      <td>0</td>\n",
              "      <td>1</td>\n",
              "    </tr>\n",
              "    <tr>\n",
              "      <th>205049</th>\n",
              "      <td>0</td>\n",
              "      <td>0</td>\n",
              "      <td>1</td>\n",
              "    </tr>\n",
              "    <tr>\n",
              "      <th>205050</th>\n",
              "      <td>0</td>\n",
              "      <td>0</td>\n",
              "      <td>1</td>\n",
              "    </tr>\n",
              "    <tr>\n",
              "      <th>205051</th>\n",
              "      <td>0</td>\n",
              "      <td>1</td>\n",
              "      <td>0</td>\n",
              "    </tr>\n",
              "  </tbody>\n",
              "</table>\n",
              "<p>205049 rows × 3 columns</p>\n",
              "</div>\n",
              "    <div class=\"colab-df-buttons\">\n",
              "\n",
              "  <div class=\"colab-df-container\">\n",
              "    <button class=\"colab-df-convert\" onclick=\"convertToInteractive('df-0d50783f-d5f9-4ac0-a510-9bf48f6f7f90')\"\n",
              "            title=\"Convert this dataframe to an interactive table.\"\n",
              "            style=\"display:none;\">\n",
              "\n",
              "  <svg xmlns=\"http://www.w3.org/2000/svg\" height=\"24px\" viewBox=\"0 -960 960 960\">\n",
              "    <path d=\"M120-120v-720h720v720H120Zm60-500h600v-160H180v160Zm220 220h160v-160H400v160Zm0 220h160v-160H400v160ZM180-400h160v-160H180v160Zm440 0h160v-160H620v160ZM180-180h160v-160H180v160Zm440 0h160v-160H620v160Z\"/>\n",
              "  </svg>\n",
              "    </button>\n",
              "\n",
              "  <style>\n",
              "    .colab-df-container {\n",
              "      display:flex;\n",
              "      gap: 12px;\n",
              "    }\n",
              "\n",
              "    .colab-df-convert {\n",
              "      background-color: #E8F0FE;\n",
              "      border: none;\n",
              "      border-radius: 50%;\n",
              "      cursor: pointer;\n",
              "      display: none;\n",
              "      fill: #1967D2;\n",
              "      height: 32px;\n",
              "      padding: 0 0 0 0;\n",
              "      width: 32px;\n",
              "    }\n",
              "\n",
              "    .colab-df-convert:hover {\n",
              "      background-color: #E2EBFA;\n",
              "      box-shadow: 0px 1px 2px rgba(60, 64, 67, 0.3), 0px 1px 3px 1px rgba(60, 64, 67, 0.15);\n",
              "      fill: #174EA6;\n",
              "    }\n",
              "\n",
              "    .colab-df-buttons div {\n",
              "      margin-bottom: 4px;\n",
              "    }\n",
              "\n",
              "    [theme=dark] .colab-df-convert {\n",
              "      background-color: #3B4455;\n",
              "      fill: #D2E3FC;\n",
              "    }\n",
              "\n",
              "    [theme=dark] .colab-df-convert:hover {\n",
              "      background-color: #434B5C;\n",
              "      box-shadow: 0px 1px 3px 1px rgba(0, 0, 0, 0.15);\n",
              "      filter: drop-shadow(0px 1px 2px rgba(0, 0, 0, 0.3));\n",
              "      fill: #FFFFFF;\n",
              "    }\n",
              "  </style>\n",
              "\n",
              "    <script>\n",
              "      const buttonEl =\n",
              "        document.querySelector('#df-0d50783f-d5f9-4ac0-a510-9bf48f6f7f90 button.colab-df-convert');\n",
              "      buttonEl.style.display =\n",
              "        google.colab.kernel.accessAllowed ? 'block' : 'none';\n",
              "\n",
              "      async function convertToInteractive(key) {\n",
              "        const element = document.querySelector('#df-0d50783f-d5f9-4ac0-a510-9bf48f6f7f90');\n",
              "        const dataTable =\n",
              "          await google.colab.kernel.invokeFunction('convertToInteractive',\n",
              "                                                    [key], {});\n",
              "        if (!dataTable) return;\n",
              "\n",
              "        const docLinkHtml = 'Like what you see? Visit the ' +\n",
              "          '<a target=\"_blank\" href=https://colab.research.google.com/notebooks/data_table.ipynb>data table notebook</a>'\n",
              "          + ' to learn more about interactive tables.';\n",
              "        element.innerHTML = '';\n",
              "        dataTable['output_type'] = 'display_data';\n",
              "        await google.colab.output.renderOutput(dataTable, element);\n",
              "        const docLink = document.createElement('div');\n",
              "        docLink.innerHTML = docLinkHtml;\n",
              "        element.appendChild(docLink);\n",
              "      }\n",
              "    </script>\n",
              "  </div>\n",
              "\n",
              "\n",
              "<div id=\"df-646d21cc-46fd-4c3d-babe-39178ea71550\">\n",
              "  <button class=\"colab-df-quickchart\" onclick=\"quickchart('df-646d21cc-46fd-4c3d-babe-39178ea71550')\"\n",
              "            title=\"Suggest charts.\"\n",
              "            style=\"display:none;\">\n",
              "\n",
              "<svg xmlns=\"http://www.w3.org/2000/svg\" height=\"24px\"viewBox=\"0 0 24 24\"\n",
              "     width=\"24px\">\n",
              "    <g>\n",
              "        <path d=\"M19 3H5c-1.1 0-2 .9-2 2v14c0 1.1.9 2 2 2h14c1.1 0 2-.9 2-2V5c0-1.1-.9-2-2-2zM9 17H7v-7h2v7zm4 0h-2V7h2v10zm4 0h-2v-4h2v4z\"/>\n",
              "    </g>\n",
              "</svg>\n",
              "  </button>\n",
              "\n",
              "<style>\n",
              "  .colab-df-quickchart {\n",
              "    background-color: #E8F0FE;\n",
              "    border: none;\n",
              "    border-radius: 50%;\n",
              "    cursor: pointer;\n",
              "    display: none;\n",
              "    fill: #1967D2;\n",
              "    height: 32px;\n",
              "    padding: 0 0 0 0;\n",
              "    width: 32px;\n",
              "  }\n",
              "\n",
              "  .colab-df-quickchart:hover {\n",
              "    background-color: #E2EBFA;\n",
              "    box-shadow: 0px 1px 2px rgba(60, 64, 67, 0.3), 0px 1px 3px 1px rgba(60, 64, 67, 0.15);\n",
              "    fill: #174EA6;\n",
              "  }\n",
              "\n",
              "  [theme=dark] .colab-df-quickchart {\n",
              "    background-color: #3B4455;\n",
              "    fill: #D2E3FC;\n",
              "  }\n",
              "\n",
              "  [theme=dark] .colab-df-quickchart:hover {\n",
              "    background-color: #434B5C;\n",
              "    box-shadow: 0px 1px 3px 1px rgba(0, 0, 0, 0.15);\n",
              "    filter: drop-shadow(0px 1px 2px rgba(0, 0, 0, 0.3));\n",
              "    fill: #FFFFFF;\n",
              "  }\n",
              "</style>\n",
              "\n",
              "  <script>\n",
              "    async function quickchart(key) {\n",
              "      const charts = await google.colab.kernel.invokeFunction(\n",
              "          'suggestCharts', [key], {});\n",
              "    }\n",
              "    (() => {\n",
              "      let quickchartButtonEl =\n",
              "        document.querySelector('#df-646d21cc-46fd-4c3d-babe-39178ea71550 button');\n",
              "      quickchartButtonEl.style.display =\n",
              "        google.colab.kernel.accessAllowed ? 'block' : 'none';\n",
              "    })();\n",
              "  </script>\n",
              "</div>\n",
              "    </div>\n",
              "  </div>\n"
            ]
          },
          "metadata": {},
          "execution_count": 17
        }
      ]
    },
    {
      "cell_type": "code",
      "source": [
        "Y_train.shape"
      ],
      "metadata": {
        "colab": {
          "base_uri": "https://localhost:8080/"
        },
        "id": "Virfpu4dIusA",
        "outputId": "c0cc05a0-7dcd-4f89-b1ae-95cc430661b8"
      },
      "execution_count": null,
      "outputs": [
        {
          "output_type": "execute_result",
          "data": {
            "text/plain": [
              "(153786, 3)"
            ]
          },
          "metadata": {},
          "execution_count": 16
        }
      ]
    },
    {
      "cell_type": "code",
      "source": [
        "import tensorflow\n",
        "from tensorflow.keras.models import Sequential\n",
        "from tensorflow.keras.layers import Embedding, LSTM, Dense,Bidirectional,Dropout\n",
        "\n",
        "# Example vocabulary size, embedding dimension, and input length\n",
        "vocab_size = 10000\n",
        "embedding_dim = 100\n",
        "input_length = 50\n",
        "\n",
        "model = Sequential()\n",
        "model.add(Embedding(input_dim=vocab_size, output_dim=embedding_dim, input_length=input_length))\n",
        "\n",
        "model.add((LSTM(88,return_sequences=True)))\n",
        "model.add(Dropout(0.4))\n",
        "\n",
        "model.add(Bidirectional(LSTM(128)))\n",
        "model.add(Dropout(0.4))\n",
        "model.add(Dense(3, activation='softmax'))\n",
        "\n",
        "# Compile and train the model\n",
        "model.compile(optimizer=\"adamax\",loss=\"categorical_crossentropy\",metrics=[\"accuracy\"])"
      ],
      "metadata": {
        "id": "guC6hnVT9eTk"
      },
      "execution_count": null,
      "outputs": []
    },
    {
      "cell_type": "code",
      "source": [
        "model.summary()"
      ],
      "metadata": {
        "colab": {
          "base_uri": "https://localhost:8080/"
        },
        "id": "tTiGtZEfAEWi",
        "outputId": "bacf7ce3-b5ed-4afe-8b43-866047e1ac48"
      },
      "execution_count": null,
      "outputs": [
        {
          "output_type": "stream",
          "name": "stdout",
          "text": [
            "Model: \"sequential_2\"\n",
            "_________________________________________________________________\n",
            " Layer (type)                Output Shape              Param #   \n",
            "=================================================================\n",
            " embedding_2 (Embedding)     (None, 50, 100)           1000000   \n",
            "                                                                 \n",
            " lstm_3 (LSTM)               (None, 50, 88)            66528     \n",
            "                                                                 \n",
            " dropout_2 (Dropout)         (None, 50, 88)            0         \n",
            "                                                                 \n",
            " bidirectional_2 (Bidirectio  (None, 256)              222208    \n",
            " nal)                                                            \n",
            "                                                                 \n",
            " dropout_3 (Dropout)         (None, 256)               0         \n",
            "                                                                 \n",
            " dense_1 (Dense)             (None, 3)                 771       \n",
            "                                                                 \n",
            "=================================================================\n",
            "Total params: 1,289,507\n",
            "Trainable params: 1,289,507\n",
            "Non-trainable params: 0\n",
            "_________________________________________________________________\n"
          ]
        }
      ]
    },
    {
      "cell_type": "code",
      "source": [
        "tensorflow.keras.utils.plot_model(model, show_shapes=True)"
      ],
      "metadata": {
        "colab": {
          "base_uri": "https://localhost:8080/",
          "height": 754
        },
        "id": "WcLGMpvQQMQp",
        "outputId": "4760012d-b5ce-4e4c-a29b-0b5baa64f22c"
      },
      "execution_count": null,
      "outputs": [
        {
          "output_type": "execute_result",
          "data": {
            "image/png": "[encoded data removed]",
            "text/plain": [
              "<IPython.core.display.Image object>"
            ]
          },
          "metadata": {},
          "execution_count": 21
        }
      ]
    },
    {
      "cell_type": "code",
      "source": [
        "model.fit(X_train,Y_train,validation_split=0.1,epochs=15, batch_size=250)"
      ],
      "metadata": {
        "colab": {
          "base_uri": "https://localhost:8080/"
        },
        "id": "ZQekFw0bBIXm",
        "outputId": "5b539867-9acd-4ab1-f31c-d993ab659716"
      },
      "execution_count": null,
      "outputs": [
        {
          "output_type": "stream",
          "name": "stdout",
          "text": [
            "Epoch 1/15\n",
            "554/554 [==============================] - 69s 101ms/step - loss: 0.3736 - accuracy: 0.8823 - val_loss: 0.3213 - val_accuracy: 0.8980\n",
            "Epoch 2/15\n",
            "554/554 [==============================] - 19s 34ms/step - loss: 0.3118 - accuracy: 0.9002 - val_loss: 0.3128 - val_accuracy: 0.8992\n",
            "Epoch 3/15\n",
            "554/554 [==============================] - 16s 28ms/step - loss: 0.2983 - accuracy: 0.9033 - val_loss: 0.2983 - val_accuracy: 0.9018\n",
            "Epoch 4/15\n",
            "554/554 [==============================] - 14s 26ms/step - loss: 0.2862 - accuracy: 0.9063 - val_loss: 0.2933 - val_accuracy: 0.9045\n",
            "Epoch 5/15\n",
            "554/554 [==============================] - 12s 22ms/step - loss: 0.2791 - accuracy: 0.9086 - val_loss: 0.2907 - val_accuracy: 0.9032\n",
            "Epoch 6/15\n",
            "554/554 [==============================] - 13s 23ms/step - loss: 0.2743 - accuracy: 0.9092 - val_loss: 0.2914 - val_accuracy: 0.9034\n",
            "Epoch 7/15\n",
            "554/554 [==============================] - 13s 23ms/step - loss: 0.2703 - accuracy: 0.9110 - val_loss: 0.2896 - val_accuracy: 0.9038\n",
            "Epoch 8/15\n",
            "554/554 [==============================] - 11s 20ms/step - loss: 0.2663 - accuracy: 0.9122 - val_loss: 0.2877 - val_accuracy: 0.9055\n",
            "Epoch 9/15\n",
            "554/554 [==============================] - 12s 21ms/step - loss: 0.2626 - accuracy: 0.9133 - val_loss: 0.2875 - val_accuracy: 0.9045\n",
            "Epoch 10/15\n",
            "554/554 [==============================] - 11s 20ms/step - loss: 0.2593 - accuracy: 0.9141 - val_loss: 0.2894 - val_accuracy: 0.9032\n",
            "Epoch 11/15\n",
            "554/554 [==============================] - 11s 20ms/step - loss: 0.2567 - accuracy: 0.9150 - val_loss: 0.2863 - val_accuracy: 0.9051\n",
            "Epoch 12/15\n",
            "554/554 [==============================] - 11s 20ms/step - loss: 0.2529 - accuracy: 0.9162 - val_loss: 0.2908 - val_accuracy: 0.9023\n",
            "Epoch 13/15\n",
            "554/554 [==============================] - 11s 19ms/step - loss: 0.2503 - accuracy: 0.9174 - val_loss: 0.2943 - val_accuracy: 0.9030\n",
            "Epoch 14/15\n",
            "554/554 [==============================] - 11s 20ms/step - loss: 0.2472 - accuracy: 0.9182 - val_loss: 0.2948 - val_accuracy: 0.9039\n",
            "Epoch 15/15\n",
            "554/554 [==============================] - 12s 22ms/step - loss: 0.2445 - accuracy: 0.9186 - val_loss: 0.2942 - val_accuracy: 0.9034\n"
          ]
        },
        {
          "output_type": "execute_result",
          "data": {
            "text/plain": [
              "<keras.callbacks.History at 0x7b0c54be7220>"
            ]
          },
          "metadata": {},
          "execution_count": 22
        }
      ]
    },
    {
      "cell_type": "code",
      "source": [
        "loss,accuracy=model.evaluate(X_test,Y_test)"
      ],
      "metadata": {
        "id": "RWxZxQzLBUrm",
        "colab": {
          "base_uri": "https://localhost:8080/"
        },
        "outputId": "47258a93-f905-46b8-c63f-10d62bf5396f"
      },
      "execution_count": null,
      "outputs": [
        {
          "output_type": "stream",
          "name": "stdout",
          "text": [
            "1602/1602 [==============================] - 11s 7ms/step - loss: 0.2939 - accuracy: 0.9037\n"
          ]
        }
      ]
    },
    {
      "cell_type": "code",
      "source": [],
      "metadata": {
        "id": "zDoAmY9OrBX7"
      },
      "execution_count": null,
      "outputs": []
    },
    {
      "cell_type": "code",
      "source": [
        "import numpy as np\n",
        "num_classes = len(np.unique(Y_train))"
      ],
      "metadata": {
        "id": "ok0O7mcXp8te"
      },
      "execution_count": null,
      "outputs": []
    },
    {
      "cell_type": "code",
      "source": [
        "vocab_size = 10000\n",
        "embedding_dim = 100\n",
        "input_length = 50\n",
        "\n",
        "model1 = Sequential()\n",
        "model1.add(Embedding(input_dim=vocab_size, output_dim=embedding_dim, input_length=input_length))\n",
        "model1.add(Bidirectional(LSTM(64,return_sequences=True)))\n",
        "model1.add(Dropout(0.3))\n",
        "model1.add(Bidirectional(LSTM(128)))\n",
        "model1.add(Dense(3, activation='softmax'))\n",
        "\n",
        "optimizer=tensorflow.keras.optimizers.Adadelta()\n",
        "# Compile and train the model\n",
        "model1.compile(optimizer=\"adamax\",loss=\"categorical_crossentropy\",metrics=[\"accuracy\"])"
      ],
      "metadata": {
        "id": "KD-sK51Qp8wC"
      },
      "execution_count": null,
      "outputs": []
    },
    {
      "cell_type": "code",
      "source": [
        "model1.fit(X_train,Y_train,validation_split=0.15,epochs=15,batch_size=300)"
      ],
      "metadata": {
        "colab": {
          "base_uri": "https://localhost:8080/"
        },
        "id": "P01zUjtgsFhp",
        "outputId": "151e90a3-7b5f-442b-c692-a09ae6f4376f"
      },
      "execution_count": null,
      "outputs": [
        {
          "output_type": "stream",
          "name": "stdout",
          "text": [
            "Epoch 1/15\n",
            "436/436 [==============================] - 57s 112ms/step - loss: 0.3803 - accuracy: 0.8801 - val_loss: 0.3185 - val_accuracy: 0.8995\n",
            "Epoch 2/15\n",
            "436/436 [==============================] - 16s 38ms/step - loss: 0.3113 - accuracy: 0.8999 - val_loss: 0.3096 - val_accuracy: 0.9014\n",
            "Epoch 3/15\n",
            "436/436 [==============================] - 14s 32ms/step - loss: 0.2947 - accuracy: 0.9041 - val_loss: 0.2941 - val_accuracy: 0.9046\n",
            "Epoch 4/15\n",
            "436/436 [==============================] - 13s 30ms/step - loss: 0.2829 - accuracy: 0.9073 - val_loss: 0.2895 - val_accuracy: 0.9071\n",
            "Epoch 5/15\n",
            "436/436 [==============================] - 12s 27ms/step - loss: 0.2749 - accuracy: 0.9092 - val_loss: 0.2848 - val_accuracy: 0.9069\n",
            "Epoch 6/15\n",
            "436/436 [==============================] - 12s 28ms/step - loss: 0.2694 - accuracy: 0.9102 - val_loss: 0.2882 - val_accuracy: 0.9061\n",
            "Epoch 7/15\n",
            "436/436 [==============================] - 13s 29ms/step - loss: 0.2644 - accuracy: 0.9121 - val_loss: 0.2862 - val_accuracy: 0.9065\n",
            "Epoch 8/15\n",
            "436/436 [==============================] - 12s 26ms/step - loss: 0.2602 - accuracy: 0.9132 - val_loss: 0.2899 - val_accuracy: 0.9058\n",
            "Epoch 9/15\n",
            "436/436 [==============================] - 11s 26ms/step - loss: 0.2565 - accuracy: 0.9147 - val_loss: 0.2859 - val_accuracy: 0.9065\n",
            "Epoch 10/15\n",
            "436/436 [==============================] - 12s 27ms/step - loss: 0.2529 - accuracy: 0.9161 - val_loss: 0.2873 - val_accuracy: 0.9051\n",
            "Epoch 11/15\n",
            "436/436 [==============================] - 11s 25ms/step - loss: 0.2493 - accuracy: 0.9172 - val_loss: 0.2857 - val_accuracy: 0.9058\n",
            "Epoch 12/15\n",
            "436/436 [==============================] - 11s 26ms/step - loss: 0.2458 - accuracy: 0.9184 - val_loss: 0.2913 - val_accuracy: 0.9036\n",
            "Epoch 13/15\n",
            "436/436 [==============================] - 12s 28ms/step - loss: 0.2422 - accuracy: 0.9189 - val_loss: 0.2922 - val_accuracy: 0.9042\n",
            "Epoch 14/15\n",
            "436/436 [==============================] - 12s 29ms/step - loss: 0.2394 - accuracy: 0.9201 - val_loss: 0.2902 - val_accuracy: 0.9041\n",
            "Epoch 15/15\n",
            "436/436 [==============================] - 11s 26ms/step - loss: 0.2363 - accuracy: 0.9208 - val_loss: 0.2961 - val_accuracy: 0.9041\n"
          ]
        },
        {
          "output_type": "execute_result",
          "data": {
            "text/plain": [
              "<keras.callbacks.History at 0x78d5c72a6bc0>"
            ]
          },
          "metadata": {},
          "execution_count": 23
        }
      ]
    },
    {
      "cell_type": "code",
      "source": [
        "model1.evaluate(X_test,Y_test,batch_size=300)"
      ],
      "metadata": {
        "colab": {
          "base_uri": "https://localhost:8080/"
        },
        "id": "vLA_cjAws6os",
        "outputId": "c179432a-dbfa-4f68-cd88-9d44634f9d95"
      },
      "execution_count": null,
      "outputs": [
        {
          "output_type": "stream",
          "name": "stdout",
          "text": [
            "171/171 [==============================] - 2s 14ms/step - loss: 0.2962 - accuracy: 0.9043\n"
          ]
        },
        {
          "output_type": "execute_result",
          "data": {
            "text/plain": [
              "[0.29623478651046753, 0.9042974710464478]"
            ]
          },
          "metadata": {},
          "execution_count": 25
        }
      ]
    },
    {
      "cell_type": "code",
      "source": [],
      "metadata": {
        "id": "q2V4A62zttAU"
      },
      "execution_count": null,
      "outputs": []
    },
    {
      "cell_type": "code",
      "source": [
        "from tensorflow.keras.layers import Conv1D, MaxPooling1D, Flatten\n",
        "\n",
        "model2 = Sequential()\n",
        "model2.add(Embedding(input_dim=vocab_size, output_dim=embedding_dim, input_length=input_length))\n",
        "model2.add(Conv1D(filters=128, kernel_size=3, activation='relu'))\n",
        "model2.add(MaxPooling1D(pool_size=2))\n",
        "model2.add(Conv1D(filters=64, kernel_size=5, activation='relu'))\n",
        "model2.add(MaxPooling1D(pool_size=2))\n",
        "model2.add(Bidirectional(LSTM(128, return_sequences=True)))\n",
        "model2.add(Dropout(0.4))\n",
        "model2.add(Flatten())\n",
        "model2.add(Dense(80, activation='relu'))\n",
        "model2.add(Dense(3, activation='softmax'))\n",
        "\n",
        "optimizer = tensorflow.keras.optimizers.Adadelta()\n",
        "# Compile and train the model\n",
        "model2.compile(optimizer=\"adamax\", loss=\"categorical_crossentropy\", metrics=[\"accuracy\"])\n"
      ],
      "metadata": {
        "id": "lGN8qAsjux-a"
      },
      "execution_count": null,
      "outputs": []
    },
    {
      "cell_type": "code",
      "source": [
        "model2.fit(X_train,Y_train,validation_split=0.1,epochs=15,batch_size=500)"
      ],
      "metadata": {
        "colab": {
          "base_uri": "https://localhost:8080/"
        },
        "id": "2Uk-ufHnu2rD",
        "outputId": "858f3f89-dd08-41a2-b7fb-7a03fe2e6842"
      },
      "execution_count": null,
      "outputs": [
        {
          "output_type": "stream",
          "name": "stdout",
          "text": [
            "Epoch 1/15\n",
            "277/277 [==============================] - 50s 142ms/step - loss: 0.4254 - accuracy: 0.8560 - val_loss: 0.3163 - val_accuracy: 0.8991\n",
            "Epoch 2/15\n",
            "277/277 [==============================] - 15s 55ms/step - loss: 0.3010 - accuracy: 0.9017 - val_loss: 0.3040 - val_accuracy: 0.9014\n",
            "Epoch 3/15\n",
            "277/277 [==============================] - 7s 26ms/step - loss: 0.2865 - accuracy: 0.9050 - val_loss: 0.2968 - val_accuracy: 0.9038\n",
            "Epoch 4/15\n",
            "277/277 [==============================] - 7s 25ms/step - loss: 0.2733 - accuracy: 0.9098 - val_loss: 0.2896 - val_accuracy: 0.9055\n",
            "Epoch 5/15\n",
            "277/277 [==============================] - 6s 23ms/step - loss: 0.2603 - accuracy: 0.9140 - val_loss: 0.2888 - val_accuracy: 0.9079\n",
            "Epoch 6/15\n",
            "277/277 [==============================] - 6s 23ms/step - loss: 0.2495 - accuracy: 0.9173 - val_loss: 0.2907 - val_accuracy: 0.9067\n",
            "Epoch 7/15\n",
            "277/277 [==============================] - 5s 19ms/step - loss: 0.2380 - accuracy: 0.9208 - val_loss: 0.3056 - val_accuracy: 0.9057\n",
            "Epoch 8/15\n",
            "277/277 [==============================] - 5s 17ms/step - loss: 0.2275 - accuracy: 0.9240 - val_loss: 0.3014 - val_accuracy: 0.9045\n",
            "Epoch 9/15\n",
            "277/277 [==============================] - 6s 21ms/step - loss: 0.2172 - accuracy: 0.9272 - val_loss: 0.3108 - val_accuracy: 0.9029\n",
            "Epoch 10/15\n",
            "277/277 [==============================] - 4s 16ms/step - loss: 0.2087 - accuracy: 0.9304 - val_loss: 0.3182 - val_accuracy: 0.8997\n",
            "Epoch 11/15\n",
            "277/277 [==============================] - 5s 18ms/step - loss: 0.2003 - accuracy: 0.9337 - val_loss: 0.3343 - val_accuracy: 0.8945\n",
            "Epoch 12/15\n",
            "277/277 [==============================] - 6s 22ms/step - loss: 0.1947 - accuracy: 0.9358 - val_loss: 0.3351 - val_accuracy: 0.8969\n",
            "Epoch 13/15\n",
            "277/277 [==============================] - 7s 24ms/step - loss: 0.1891 - accuracy: 0.9376 - val_loss: 0.3658 - val_accuracy: 0.8981\n",
            "Epoch 14/15\n",
            "277/277 [==============================] - 5s 17ms/step - loss: 0.1840 - accuracy: 0.9397 - val_loss: 0.3759 - val_accuracy: 0.8975\n",
            "Epoch 15/15\n",
            "277/277 [==============================] - 5s 19ms/step - loss: 0.1810 - accuracy: 0.9406 - val_loss: 0.3557 - val_accuracy: 0.8951\n"
          ]
        },
        {
          "output_type": "execute_result",
          "data": {
            "text/plain": [
              "<keras.callbacks.History at 0x7b0c5fe1bb20>"
            ]
          },
          "metadata": {},
          "execution_count": 25
        }
      ]
    },
    {
      "cell_type": "code",
      "source": [
        "model2.evaluate(X_test,Y_test,batch_size=300)"
      ],
      "metadata": {
        "colab": {
          "base_uri": "https://localhost:8080/"
        },
        "id": "zb0TmxPHzAJ9",
        "outputId": "9c5f6eb3-f8bf-4708-966a-27417c001433"
      },
      "execution_count": null,
      "outputs": [
        {
          "output_type": "stream",
          "name": "stdout",
          "text": [
            "171/171 [==============================] - 1s 6ms/step - loss: 0.3561 - accuracy: 0.8967\n"
          ]
        },
        {
          "output_type": "execute_result",
          "data": {
            "text/plain": [
              "[0.35612952709198, 0.8967286348342896]"
            ]
          },
          "metadata": {},
          "execution_count": 27
        }
      ]
    },
    {
      "cell_type": "code",
      "source": [],
      "metadata": {
        "id": "ZzCM2BXw8hIe"
      },
      "execution_count": null,
      "outputs": []
    },
    {
      "cell_type": "code",
      "source": [
        "input_text=\"very very bad product plase stop diasappoiting me\"\n",
        "preprocessed_input = lemmatize(input_text)  # Preprocess the input text\n",
        "tokenized_input = tokenizer.texts_to_sequences([preprocessed_input])  # Convert to tokenized sequence\n",
        "padded_input = pad_sequences(tokenized_input, padding='post', maxlen=max_len)  # Pad the sequence\n",
        "\n",
        "# Make predictions\n",
        "predictions = model2.predict(padded_input)\n",
        "\n",
        "# The predictions will be a probability distribution over classes\n",
        "print(predictions)"
      ],
      "metadata": {
        "colab": {
          "base_uri": "https://localhost:8080/"
        },
        "id": "e-bcK7x6zAL2",
        "outputId": "aa638fa0-0c10-4901-93bc-7d7518905a0c"
      },
      "execution_count": null,
      "outputs": [
        {
          "output_type": "stream",
          "name": "stdout",
          "text": [
            "1/1 [==============================] - 0s 23ms/step\n",
            "[[0.9740312  0.01961037 0.00635839]]\n"
          ]
        }
      ]
    },
    {
      "cell_type": "code",
      "source": [],
      "metadata": {
        "id": "5GpkjuE05sGM"
      },
      "execution_count": null,
      "outputs": []
    }
  ]
}